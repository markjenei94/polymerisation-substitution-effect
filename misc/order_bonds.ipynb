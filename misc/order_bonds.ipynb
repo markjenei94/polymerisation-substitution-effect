{
 "cells": [
  {
   "cell_type": "code",
   "execution_count": 3,
   "metadata": {
    "collapsed": true
   },
   "outputs": [
    {
     "name": "stdout",
     "output_type": "stream",
     "text": [
      "Running  0\n",
      "Running  1\n",
      "Running  2\n",
      "Running  3\n",
      "Running  4\n",
      "Running  5\n",
      "Running  6\n",
      "Running  7\n",
      "Running  8\n",
      "Running  9\n"
     ]
    }
   ],
   "source": [
    "import numpy as np\n",
    "import matplotlib.pyplot as plt\n",
    "\n",
    "def create_bond_dict(path: str, monomer_keys_path: str, timestep=100) -> dict:\n",
    "    key_dict = {}\n",
    "    with open(monomer_keys_path, 'r') as f:\n",
    "        for line in f:\n",
    "            key, value = line.split()\n",
    "            key_dict[int(key)] = value\n",
    "\n",
    "    dict = {}\n",
    "    t = 0\n",
    "    i = 0\n",
    "    with open(path) as f:\n",
    "        for line in f:\n",
    "            ls = line.split()\n",
    "            if len(ls) == 2 and ls[1] == \"TIMESTEP\":\n",
    "                t += timestep\n",
    "            if len(ls) == 4 and ls[0] != \"ITEM:\":\n",
    "                if ls[-1] == '2':\n",
    "                    id1, id2 = int(ls[1]), int(ls[2])\n",
    "                    id1_ = min(id1, id2)\n",
    "                    id2_ = max(id1, id2)\n",
    "                    id1 = id1_\n",
    "                    id1 = key_dict[id1]\n",
    "                    id2 = key_dict[id2_]\n",
    "                    if dict.get((id1, id2)) is None:\n",
    "                        i += 1\n",
    "                        dict[(id1, id2)] = t\n",
    "    return dict\n",
    "\n",
    "func = 4\n",
    "run = 5.0\n",
    "for i in range(10):\n",
    "    print(\"Running \", i)\n",
    "    dict = create_bond_dict(f\"/home/markjenei/RDPD/FSSE/dgeba-p{func}a/run-{run}/rdpd{i}.bonds\", f\"./monomer_keys_p{func}a.txt\")\n",
    "    #dict = create_bond_dict(f\"/home/markjenei/RDPD/diffusion/dgeba-p{func}a/diffusion.bonds\", f\"./monomer_keys_p{func}a.txt\")\n",
    "    i = str(i).zfill(2)\n",
    "    #with open(f\"/home/markjenei/RDPD/FSSE/dgeba-p{func}a/run_{i}.out\", 'w') as f:\n",
    "    with open(f\"/home/markjenei/polymerisation-substitution-effect/data/DGEBA_P{func}A/dpd_outfiles/run_{i}.out\", 'w') as f:\n",
    "        for key in list(dict.keys()):\n",
    "            f.write(f\"{key[0]}\\t{key[1]}\\t{dict[key]}\\n\")"
   ]
  },
  {
   "cell_type": "markdown",
   "source": [
    "### Write monomer keys"
   ],
   "metadata": {
    "collapsed": false,
    "pycharm": {
     "name": "#%% md\n"
    }
   },
   "execution_count": 2
  },
  {
   "cell_type": "code",
   "execution_count": 2,
   "outputs": [],
   "source": [
    "N_epoxy = 2000\n",
    "N_hardener = 1000\n",
    "with open(\"monomer_keys_p4a.txt\", 'w') as f:\n",
    "    for i in range(1, N_epoxy * 2 + N_hardener + 1):\n",
    "        if i <= N_epoxy * 2:\n",
    "            f.write(f\"{i}\\t{(i - 1) // 2}\\n\")\n",
    "        else:\n",
    "            f.write(f\"{i}\\t{i - N_epoxy - 1}\\n\")"
   ],
   "metadata": {
    "collapsed": false,
    "pycharm": {
     "name": "#%%\n"
    }
   }
  }
 ],
 "metadata": {
  "kernelspec": {
   "name": "pycharm-bf154dcd",
   "language": "python",
   "display_name": "PyCharm (polymerisation-coarse-graining)"
  },
  "language_info": {
   "codemirror_mode": {
    "name": "ipython",
    "version": 2
   },
   "file_extension": ".py",
   "mimetype": "text/x-python",
   "name": "python",
   "nbconvert_exporter": "python",
   "pygments_lexer": "ipython2",
   "version": "2.7.6"
  }
 },
 "nbformat": 4,
 "nbformat_minor": 0
}